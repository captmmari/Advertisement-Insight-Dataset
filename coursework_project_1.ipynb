{
  "nbformat": 4,
  "nbformat_minor": 0,
  "metadata": {
    "colab": {
      "provenance": [],
      "authorship_tag": "ABX9TyN64Pvcefej0zv1nXKvc48+",
      "include_colab_link": true
    },
    "kernelspec": {
      "name": "python3",
      "display_name": "Python 3"
    },
    "language_info": {
      "name": "python"
    }
  },
  "cells": [
    {
      "cell_type": "markdown",
      "metadata": {
        "id": "view-in-github",
        "colab_type": "text"
      },
      "source": [
        "<a href=\"https://colab.research.google.com/github/captmmari/Advertisement-Insight-Dataset/blob/main/coursework_project_1.ipynb\" target=\"_parent\"><img src=\"https://colab.research.google.com/assets/colab-badge.svg\" alt=\"Open In Colab\"/></a>"
      ]
    },
    {
      "cell_type": "markdown",
      "source": [
        "# **1.0 Coursework**"
      ],
      "metadata": {
        "id": "K6Gl_jqBFewu"
      }
    },
    {
      "cell_type": "code",
      "source": [
        "import random\n",
        "\n",
        "# Prompting players to register their names\n",
        "player1_name = input('Player 1, please enter your name: ')\n",
        "player2_name = input('Player 2, please enter your name: ')\n",
        "\n",
        "# Creating empty lists to store player cards (now keeping track of the player's names separately)\n",
        "player1_cards = []\n",
        "player2_cards = []\n",
        "\n",
        "# Let's define suits and values for the cards\n",
        "suits = [\"Hearts\", \"Diamonds\", \"Clubs\", \"Spades\"]\n",
        "ranks = [\"2\", \"3\", \"4\", \"5\", \"6\", \"7\", \"8\", \"9\", \"10\", \"Jack\", \"Queen\", \"King\", \"Ace\"]\n",
        "\n",
        "# Defining the card values for comparison basis\n",
        "values = {\n",
        "    '2': 2,\n",
        "    '3': 3,\n",
        "    '4': 4,\n",
        "    '5': 5,\n",
        "    '6': 6,\n",
        "    '7': 7,\n",
        "    '8': 8,\n",
        "    '9': 9,\n",
        "    '10': 10,\n",
        "    'Jack': 11,\n",
        "    'Queen': 12,\n",
        "    'King': 13,\n",
        "    'Ace': 14,\n",
        "}\n",
        "\n",
        "# Creating a deck of cards\n",
        "deck = []\n",
        "for suit in suits:\n",
        "    for rank in ranks:\n",
        "        deck.append((suit, rank))\n",
        "\n",
        "# Shuffling the cards\n",
        "random.shuffle(deck)\n",
        "\n",
        "# Dealing one card to each player\n",
        "player1_cards.append(deck.pop())\n",
        "player2_cards.append(deck.pop())\n",
        "\n",
        "# Comparing cards to determine the winner\n",
        "player1_card = player1_cards[0]\n",
        "player2_card = player2_cards[0]\n",
        "\n",
        "if values[player1_card[1]] > values[player2_card[1]]:\n",
        "    print(f'{player1_name} wins the round with the {player1_card[1]} of {player1_card[0]}')\n",
        "elif values[player1_card[1]] < values[player2_card[1]]:\n",
        "    print(f'{player2_name} wins the round with the {player2_card[1]} of {player2_card[0]}')\n",
        "else:\n",
        "    print(f'It is a tie! Both players drew the {player1_card[1]} of {player1_card[0]}')\n",
        "\n",
        "# Printing the cards dealt to the players for this round\n",
        "print(f'{player1_name} card: {player1_card[1]} of {player1_card[0]}')\n",
        "print(f'{player2_name} card: {player2_card[1]} of {player2_card[0]}')\n"
      ],
      "metadata": {
        "colab": {
          "base_uri": "https://localhost:8080/"
        },
        "id": "L59bPBDhPpPq",
        "outputId": "f80a266a-34a9-49e2-adaa-a7d22063dbc0"
      },
      "execution_count": null,
      "outputs": [
        {
          "output_type": "stream",
          "name": "stdout",
          "text": [
            "Player 1, please enter your name: Jake\n",
            "Player 2, please enter your name: Job\n",
            "Jake wins the round with the Jack of Diamonds\n",
            "Jake card: Jack of Diamonds\n",
            "Job card: 2 of Hearts\n"
          ]
        }
      ]
    }
  ]
}